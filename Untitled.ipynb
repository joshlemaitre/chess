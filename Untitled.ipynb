{
 "cells": [
  {
   "cell_type": "code",
   "execution_count": 2,
   "id": "664e80b8-327d-495e-8a66-0badbca76dd2",
   "metadata": {},
   "outputs": [],
   "source": [
    "import requests\n"
   ]
  },
  {
   "cell_type": "code",
   "execution_count": 3,
   "id": "71e4d969-c9dd-43f0-8d67-085b772c55e4",
   "metadata": {},
   "outputs": [],
   "source": [
    "games = requests.get(\"https://api.chess.com/pub/player/lootgrass/games/2021/02\")\n",
    "months = requests.get(\"https://api.chess.com/pub/player/lootgrass/games/archives\")"
   ]
  },
  {
   "cell_type": "code",
   "execution_count": 4,
   "id": "39ce4766-573b-49b1-babb-056c0dd02030",
   "metadata": {},
   "outputs": [],
   "source": [
    "gg = {}\n",
    "for month in months.json()['archives']:\n",
    "    try:\n",
    "        games = requests.get(month)\n",
    "        gg[month[-7:]] = games.json()['games']\n",
    "    except:\n",
    "        next"
   ]
  },
  {
   "cell_type": "code",
   "execution_count": 12,
   "id": "2c0cbca7-cd4a-4e95-91d5-072bed933e04",
   "metadata": {},
   "outputs": [],
   "source": [
    "ll = []\n",
    "for key in gg.keys():\n",
    "    for item in gg[key]:\n",
    "        ll.append(item['pgn'])"
   ]
  },
  {
   "cell_type": "code",
   "execution_count": 31,
   "id": "ae7d12db",
   "metadata": {},
   "outputs": [
    {
     "data": {
      "text/plain": [
       "['[Event \"Live Chess\"]',\n",
       " '[Site \"Chess.com\"]',\n",
       " '[Date \"2020.12.11\"]',\n",
       " '[Round \"-\"]',\n",
       " '[White \"lootgrass\"]',\n",
       " '[Black \"Ba2067\"]',\n",
       " '[Result \"0-1\"]',\n",
       " '[CurrentPosition \"rn6/2p1k3/p2bp3/8/1pPR2pr/1P6/P4PK1/7q w - -\"]',\n",
       " '[Timezone \"UTC\"]',\n",
       " '[ECO \"B00\"]',\n",
       " '[ECOUrl \"https://www.chess.com/openings/Kings-Pawn-Opening-St-George-Defense\"]',\n",
       " '[UTCDate \"2020.12.11\"]',\n",
       " '[UTCTime \"02:38:44\"]',\n",
       " '[WhiteElo \"1168\"]',\n",
       " '[BlackElo \"1695\"]',\n",
       " '[TimeControl \"600\"]',\n",
       " '[Termination \"Ba2067 won by checkmate\"]',\n",
       " '[StartTime \"02:38:44\"]',\n",
       " '[EndDate \"2020.12.11\"]',\n",
       " '[EndTime \"02:46:19\"]',\n",
       " '[Link \"https://www.chess.com/game/live/5937390036\"]',\n",
       " '',\n",
       " '1. e4 {[%clk 0:09:55.2]} 1... a6 {[%clk 0:09:59.1]} 2. Nf3 {[%clk 0:09:52.8]} 2... b5 {[%clk 0:09:57.9]} 3. d4 {[%clk 0:09:50.3]} 3... Bb7 {[%clk 0:09:57.1]} 4. Nc3 {[%clk 0:09:43]} 4... b4 {[%clk 0:09:55.6]} 5. Nd5 {[%clk 0:09:34.4]} 5... e6 {[%clk 0:09:43.3]} 6. Bg5 {[%clk 0:09:20.7]} 6... f6 {[%clk 0:09:39.5]} 7. Bxf6 {[%clk 0:09:05.3]} 7... gxf6 {[%clk 0:09:37]} 8. Nxf6+ {[%clk 0:09:04.1]} 8... Nxf6 {[%clk 0:09:33.6]} 9. b3 {[%clk 0:08:46.9]} 9... Nxe4 {[%clk 0:09:31.7]} 10. Bd3 {[%clk 0:08:39.5]} 10... h5 {[%clk 0:09:26.7]} 11. O-O {[%clk 0:08:24.6]} 11... Bh6 {[%clk 0:09:24.5]} 12. Ne5 {[%clk 0:07:52.2]} 12... Bf4 {[%clk 0:08:54.2]} 13. Qf3 {[%clk 0:07:40.5]} 13... Bxe5 {[%clk 0:08:51]} 14. Qxe4 {[%clk 0:07:38.1]} 14... Bxe4 {[%clk 0:08:49.3]} 15. Bxe4 {[%clk 0:07:37.1]} 15... d5 {[%clk 0:08:48.7]} 16. Bxd5 {[%clk 0:07:35.4]} 16... Qxd5 {[%clk 0:08:47.5]} 17. Rfe1 {[%clk 0:07:32.1]} 17... Qxd4 {[%clk 0:08:41.6]} 18. Rad1 {[%clk 0:07:27.3]} 18... Qf4 {[%clk 0:08:32.9]} 19. g3 {[%clk 0:07:23.8]} 19... Qf5 {[%clk 0:08:30.1]} 20. g4 {[%clk 0:07:07.1]} 20... hxg4 {[%clk 0:08:28.8]} 21. Rd8+ {[%clk 0:06:24.5]} 21... Kxd8 {[%clk 0:08:25.9]} 22. h4 {[%clk 0:06:18.3]} 22... Rxh4 {[%clk 0:08:08]} 23. c4 {[%clk 0:06:05]} 23... Bd6 {[%clk 0:07:16.8]} 24. Rd1 {[%clk 0:05:52.7]} 24... Ke7 {[%clk 0:07:14.9]} 25. Rd4 {[%clk 0:05:34.8]} 25... Qb1+ {[%clk 0:07:08.8]} 26. Kg2 {[%clk 0:05:31.1]} 26... Qh1# {[%clk 0:07:07]} 0-1',\n",
       " '']"
      ]
     },
     "execution_count": 31,
     "metadata": {},
     "output_type": "execute_result"
    }
   ],
   "source": [
    "ll[0]"
   ]
  },
  {
   "cell_type": "code",
   "execution_count": 14,
   "id": "a8045b28-6186-44a2-a222-f8064718b70c",
   "metadata": {},
   "outputs": [],
   "source": [
    "import re\n",
    "for i, item in enumerate(ll):\n",
    "    item_list = re.split(pattern=r'\\n',string=item)\n",
    "    ll[i] = item_list\n",
    "    "
   ]
  },
  {
   "cell_type": "code",
   "execution_count": 79,
   "id": "27119b93",
   "metadata": {},
   "outputs": [],
   "source": [
    "from collections import OrderedDict\n",
    "import pandas as pd\n",
    "def get_moves(pgn_string):\n",
    "    moves = re.split(r'[^0-9][0-9]+\\.\\.?\\.? ',pgn_string[3:])\n",
    "    dmove = OrderedDict()\n",
    "    i = 1\n",
    "    while len(moves) > 0:\n",
    "        dmove[str(i)] = {}\n",
    "        white_move = moves.pop(0)\n",
    "        white = {'move': white_move.split(' ')[0], \\\n",
    "                 'time': white_move.split(' ')[2][:-2]}\n",
    "        dmove[str(i)]['white'] = white\n",
    "        try:\n",
    "            black_move = moves.pop(0)\n",
    "            black = {'move': black_move.split(' ')[0], \\\n",
    "                     'time': black_move.split(' ')[2][:-2]}\n",
    "            dmove[str(i)]['black'] = black\n",
    "        except:\n",
    "            pass\n",
    "        i += 1\n",
    "    return(dmove)"
   ]
  },
  {
   "cell_type": "code",
   "execution_count": 80,
   "id": "8587357e",
   "metadata": {},
   "outputs": [],
   "source": [
    "def parse_game(game):\n",
    "    d = {}\n",
    "    for i,item in enumerate(game):\n",
    "        if i <= 20:\n",
    "            item = item[1:-1:]\n",
    "            key = re.findall(pattern = r'^[^\\s]+', string=item)[0]\n",
    "            value = re.sub('\"','',item[(len(key)+1):])\n",
    "            d[key] = value\n",
    "        elif len(item) == 0:\n",
    "                pass\n",
    "        else:\n",
    "            d[\"Moves\"] = get_moves(item)\n",
    "    return(d)"
   ]
  },
  {
   "cell_type": "code",
   "execution_count": 96,
   "id": "2f3e280e",
   "metadata": {},
   "outputs": [
    {
     "data": {
      "text/html": [
       "<div>\n",
       "<style scoped>\n",
       "    .dataframe tbody tr th:only-of-type {\n",
       "        vertical-align: middle;\n",
       "    }\n",
       "\n",
       "    .dataframe tbody tr th {\n",
       "        vertical-align: top;\n",
       "    }\n",
       "\n",
       "    .dataframe thead th {\n",
       "        text-align: right;\n",
       "    }\n",
       "</style>\n",
       "<table border=\"1\" class=\"dataframe\">\n",
       "  <thead>\n",
       "    <tr style=\"text-align: right;\">\n",
       "      <th></th>\n",
       "      <th>1</th>\n",
       "      <th>2</th>\n",
       "      <th>3</th>\n",
       "      <th>4</th>\n",
       "      <th>5</th>\n",
       "      <th>6</th>\n",
       "      <th>7</th>\n",
       "      <th>8</th>\n",
       "      <th>9</th>\n",
       "      <th>10</th>\n",
       "      <th>...</th>\n",
       "      <th>22</th>\n",
       "      <th>23</th>\n",
       "      <th>24</th>\n",
       "      <th>25</th>\n",
       "      <th>26</th>\n",
       "      <th>27</th>\n",
       "      <th>28</th>\n",
       "      <th>29</th>\n",
       "      <th>30</th>\n",
       "      <th>31</th>\n",
       "    </tr>\n",
       "  </thead>\n",
       "  <tbody>\n",
       "    <tr>\n",
       "      <th>white</th>\n",
       "      <td>{'move': 'd4', 'time': '0:10:00'}</td>\n",
       "      <td>{'move': 'Bf4', 'time': '0:09:53.9'}</td>\n",
       "      <td>{'move': 'e3', 'time': '0:09:45.2'}</td>\n",
       "      <td>{'move': 'Nf3', 'time': '0:09:36.9'}</td>\n",
       "      <td>{'move': 'c3', 'time': '0:09:26.2'}</td>\n",
       "      <td>{'move': 'Bxd6', 'time': '0:09:23.7'}</td>\n",
       "      <td>{'move': 'Bd3', 'time': '0:09:20.5'}</td>\n",
       "      <td>{'move': 'O-O', 'time': '0:09:06.7'}</td>\n",
       "      <td>{'move': 'Ne5', 'time': '0:08:33.2'}</td>\n",
       "      <td>{'move': 'Qc1', 'time': '0:08:11.6'}</td>\n",
       "      <td>...</td>\n",
       "      <td>{'move': 'Kh1', 'time': '0:05:48.3'}</td>\n",
       "      <td>{'move': 'Qg3', 'time': '0:05:28.4'}</td>\n",
       "      <td>{'move': 'fxg3', 'time': '0:05:24.5'}</td>\n",
       "      <td>{'move': 'Ra3', 'time': '0:05:11.8'}</td>\n",
       "      <td>{'move': 'Bf5', 'time': '0:04:54.4'}</td>\n",
       "      <td>{'move': 'e4', 'time': '0:04:46.3'}</td>\n",
       "      <td>{'move': 'Rxd3', 'time': '0:04:41.7'}</td>\n",
       "      <td>{'move': 'Rxe4', 'time': '0:04:37.5'}</td>\n",
       "      <td>{'move': 'Bxe4', 'time': '0:04:35.8'}</td>\n",
       "      <td>{'move': 'Bc6', 'time': '0:04:30.8'}</td>\n",
       "    </tr>\n",
       "    <tr>\n",
       "      <th>black</th>\n",
       "      <td>{'move': 'Nf6', 'time': '0:09:48.8'}</td>\n",
       "      <td>{'move': 'b6', 'time': '0:09:43.3'}</td>\n",
       "      <td>{'move': 'Bb7', 'time': '0:09:41.5'}</td>\n",
       "      <td>{'move': 'e6', 'time': '0:09:35.3'}</td>\n",
       "      <td>{'move': 'Bd6', 'time': '0:09:33.6'}</td>\n",
       "      <td>{'move': 'cxd6', 'time': '0:09:31.6'}</td>\n",
       "      <td>{'move': 'Ne4', 'time': '0:09:24'}</td>\n",
       "      <td>{'move': 'd5', 'time': '0:09:06.8'}</td>\n",
       "      <td>{'move': 'O-O', 'time': '0:09:02.1'}</td>\n",
       "      <td>{'move': 'Qf6', 'time': '0:07:53.9'}</td>\n",
       "      <td>...</td>\n",
       "      <td>{'move': 'Rd8', 'time': '0:04:29.9'}</td>\n",
       "      <td>{'move': 'Qxg3', 'time': '0:04:09.3'}</td>\n",
       "      <td>{'move': 'Re4', 'time': '0:04:05.4'}</td>\n",
       "      <td>{'move': 'g5', 'time': '0:03:35.3'}</td>\n",
       "      <td>{'move': 'Re7', 'time': '0:03:21.9'}</td>\n",
       "      <td>{'move': 'Bd3', 'time': '0:03:09.2'}</td>\n",
       "      <td>{'move': 'dxe4', 'time': '0:02:49.7'}</td>\n",
       "      <td>{'move': 'Rxe4', 'time': '0:02:48.4'}</td>\n",
       "      <td>{'move': 'Re8', 'time': '0:02:43.5'}</td>\n",
       "      <td>{'move': 'Re1#', 'time': '0:02:41.4'}</td>\n",
       "    </tr>\n",
       "  </tbody>\n",
       "</table>\n",
       "<p>2 rows × 31 columns</p>\n",
       "</div>"
      ],
      "text/plain": [
       "                                          1  \\\n",
       "white     {'move': 'd4', 'time': '0:10:00'}   \n",
       "black  {'move': 'Nf6', 'time': '0:09:48.8'}   \n",
       "\n",
       "                                          2  \\\n",
       "white  {'move': 'Bf4', 'time': '0:09:53.9'}   \n",
       "black   {'move': 'b6', 'time': '0:09:43.3'}   \n",
       "\n",
       "                                          3  \\\n",
       "white   {'move': 'e3', 'time': '0:09:45.2'}   \n",
       "black  {'move': 'Bb7', 'time': '0:09:41.5'}   \n",
       "\n",
       "                                          4  \\\n",
       "white  {'move': 'Nf3', 'time': '0:09:36.9'}   \n",
       "black   {'move': 'e6', 'time': '0:09:35.3'}   \n",
       "\n",
       "                                          5  \\\n",
       "white   {'move': 'c3', 'time': '0:09:26.2'}   \n",
       "black  {'move': 'Bd6', 'time': '0:09:33.6'}   \n",
       "\n",
       "                                           6  \\\n",
       "white  {'move': 'Bxd6', 'time': '0:09:23.7'}   \n",
       "black  {'move': 'cxd6', 'time': '0:09:31.6'}   \n",
       "\n",
       "                                          7  \\\n",
       "white  {'move': 'Bd3', 'time': '0:09:20.5'}   \n",
       "black    {'move': 'Ne4', 'time': '0:09:24'}   \n",
       "\n",
       "                                          8  \\\n",
       "white  {'move': 'O-O', 'time': '0:09:06.7'}   \n",
       "black   {'move': 'd5', 'time': '0:09:06.8'}   \n",
       "\n",
       "                                          9  \\\n",
       "white  {'move': 'Ne5', 'time': '0:08:33.2'}   \n",
       "black  {'move': 'O-O', 'time': '0:09:02.1'}   \n",
       "\n",
       "                                         10  ...  \\\n",
       "white  {'move': 'Qc1', 'time': '0:08:11.6'}  ...   \n",
       "black  {'move': 'Qf6', 'time': '0:07:53.9'}  ...   \n",
       "\n",
       "                                         22  \\\n",
       "white  {'move': 'Kh1', 'time': '0:05:48.3'}   \n",
       "black  {'move': 'Rd8', 'time': '0:04:29.9'}   \n",
       "\n",
       "                                          23  \\\n",
       "white   {'move': 'Qg3', 'time': '0:05:28.4'}   \n",
       "black  {'move': 'Qxg3', 'time': '0:04:09.3'}   \n",
       "\n",
       "                                          24  \\\n",
       "white  {'move': 'fxg3', 'time': '0:05:24.5'}   \n",
       "black   {'move': 'Re4', 'time': '0:04:05.4'}   \n",
       "\n",
       "                                         25  \\\n",
       "white  {'move': 'Ra3', 'time': '0:05:11.8'}   \n",
       "black   {'move': 'g5', 'time': '0:03:35.3'}   \n",
       "\n",
       "                                         26  \\\n",
       "white  {'move': 'Bf5', 'time': '0:04:54.4'}   \n",
       "black  {'move': 'Re7', 'time': '0:03:21.9'}   \n",
       "\n",
       "                                         27  \\\n",
       "white   {'move': 'e4', 'time': '0:04:46.3'}   \n",
       "black  {'move': 'Bd3', 'time': '0:03:09.2'}   \n",
       "\n",
       "                                          28  \\\n",
       "white  {'move': 'Rxd3', 'time': '0:04:41.7'}   \n",
       "black  {'move': 'dxe4', 'time': '0:02:49.7'}   \n",
       "\n",
       "                                          29  \\\n",
       "white  {'move': 'Rxe4', 'time': '0:04:37.5'}   \n",
       "black  {'move': 'Rxe4', 'time': '0:02:48.4'}   \n",
       "\n",
       "                                          30  \\\n",
       "white  {'move': 'Bxe4', 'time': '0:04:35.8'}   \n",
       "black   {'move': 'Re8', 'time': '0:02:43.5'}   \n",
       "\n",
       "                                          31  \n",
       "white   {'move': 'Bc6', 'time': '0:04:30.8'}  \n",
       "black  {'move': 'Re1#', 'time': '0:02:41.4'}  \n",
       "\n",
       "[2 rows x 31 columns]"
      ]
     },
     "execution_count": 96,
     "metadata": {},
     "output_type": "execute_result"
    }
   ],
   "source": [
    "pd.DataFrame(parse_game(ll[-1])['Moves'], )"
   ]
  },
  {
   "cell_type": "code",
   "execution_count": 20,
   "id": "1a363b45-0730-4cb3-939a-446cb5d7f75f",
   "metadata": {},
   "outputs": [],
   "source": [
    "cols = ['event','site','date','round','white','black','result','position','timezone','eco','ecourl','utcdate','utctime','whiteelo','blackelo','timecontrol','termination','starttime','enddate','endtime','link','blank','moves','blank2']"
   ]
  },
  {
   "cell_type": "code",
   "execution_count": 27,
   "id": "aac59d70",
   "metadata": {},
   "outputs": [
    {
     "data": {
      "text/plain": [
       "1"
      ]
     },
     "execution_count": 27,
     "metadata": {},
     "output_type": "execute_result"
    }
   ],
   "source": [
    "l = [1,2,3,4]\n",
    "l.pop(0)"
   ]
  },
  {
   "cell_type": "code",
   "execution_count": 54,
   "id": "c8c0ed83",
   "metadata": {},
   "outputs": [
    {
     "ename": "IndexError",
     "evalue": "pop from empty list",
     "output_type": "error",
     "traceback": [
      "\u001b[0;31m---------------------------------------------------------------------------\u001b[0m",
      "\u001b[0;31mIndexError\u001b[0m                                Traceback (most recent call last)",
      "\u001b[0;32m/var/folders/j4/7yzv8yjx7v7bzh0_h1qc407m0000gn/T/ipykernel_31198/1419477931.py\u001b[0m in \u001b[0;36m<module>\u001b[0;34m\u001b[0m\n\u001b[0;32m----> 1\u001b[0;31m \u001b[0mget_moves\u001b[0m\u001b[0;34m(\u001b[0m\u001b[0mll\u001b[0m\u001b[0;34m[\u001b[0m\u001b[0;36m1\u001b[0m\u001b[0;34m]\u001b[0m\u001b[0;34m[\u001b[0m\u001b[0;36m22\u001b[0m\u001b[0;34m]\u001b[0m\u001b[0;34m)\u001b[0m\u001b[0;34m\u001b[0m\u001b[0;34m\u001b[0m\u001b[0m\n\u001b[0m",
      "\u001b[0;32m/var/folders/j4/7yzv8yjx7v7bzh0_h1qc407m0000gn/T/ipykernel_31198/1921715481.py\u001b[0m in \u001b[0;36mget_moves\u001b[0;34m(pgn_string)\u001b[0m\n\u001b[1;32m      8\u001b[0m         \u001b[0mdmove\u001b[0m\u001b[0;34m[\u001b[0m\u001b[0mstr\u001b[0m\u001b[0;34m(\u001b[0m\u001b[0mi\u001b[0m\u001b[0;34m)\u001b[0m\u001b[0;34m]\u001b[0m \u001b[0;34m=\u001b[0m \u001b[0;34m{\u001b[0m\u001b[0;34m}\u001b[0m\u001b[0;34m\u001b[0m\u001b[0;34m\u001b[0m\u001b[0m\n\u001b[1;32m      9\u001b[0m         \u001b[0mdmove\u001b[0m\u001b[0;34m[\u001b[0m\u001b[0mstr\u001b[0m\u001b[0;34m(\u001b[0m\u001b[0mi\u001b[0m\u001b[0;34m)\u001b[0m\u001b[0;34m]\u001b[0m\u001b[0;34m[\u001b[0m\u001b[0;34m'white'\u001b[0m\u001b[0;34m]\u001b[0m \u001b[0;34m=\u001b[0m \u001b[0mmoves\u001b[0m\u001b[0;34m.\u001b[0m\u001b[0mpop\u001b[0m\u001b[0;34m(\u001b[0m\u001b[0;36m0\u001b[0m\u001b[0;34m)\u001b[0m\u001b[0;34m\u001b[0m\u001b[0;34m\u001b[0m\u001b[0m\n\u001b[0;32m---> 10\u001b[0;31m         \u001b[0mdmove\u001b[0m\u001b[0;34m[\u001b[0m\u001b[0mstr\u001b[0m\u001b[0;34m(\u001b[0m\u001b[0mi\u001b[0m\u001b[0;34m)\u001b[0m\u001b[0;34m]\u001b[0m\u001b[0;34m[\u001b[0m\u001b[0;34m'black'\u001b[0m\u001b[0;34m]\u001b[0m \u001b[0;34m=\u001b[0m \u001b[0mmoves\u001b[0m\u001b[0;34m.\u001b[0m\u001b[0mpop\u001b[0m\u001b[0;34m(\u001b[0m\u001b[0;36m0\u001b[0m\u001b[0;34m)\u001b[0m\u001b[0;34m\u001b[0m\u001b[0;34m\u001b[0m\u001b[0m\n\u001b[0m\u001b[1;32m     11\u001b[0m         \u001b[0mi\u001b[0m \u001b[0;34m+=\u001b[0m \u001b[0;36m1\u001b[0m\u001b[0;34m\u001b[0m\u001b[0;34m\u001b[0m\u001b[0m\n\u001b[1;32m     12\u001b[0m     \u001b[0;32mreturn\u001b[0m\u001b[0;34m(\u001b[0m\u001b[0mdmove\u001b[0m\u001b[0;34m)\u001b[0m\u001b[0;34m\u001b[0m\u001b[0;34m\u001b[0m\u001b[0m\n",
      "\u001b[0;31mIndexError\u001b[0m: pop from empty list"
     ]
    }
   ],
   "source": [
    "get_moves(ll[1][22])"
   ]
  },
  {
   "cell_type": "code",
   "execution_count": 159,
   "id": "a0db950a-b686-4323-b705-d2647de5046a",
   "metadata": {},
   "outputs": [],
   "source": [
    "games = pd.DataFrame(ll, columns = cols)\n"
   ]
  },
  {
   "cell_type": "code",
   "execution_count": 160,
   "id": "4256081f-9f33-4b6f-acac-107d09c70486",
   "metadata": {},
   "outputs": [
    {
     "data": {
      "text/plain": [
       "0       . e4 {[%clk 0:09:55.2]} 1... a6 {[%clk 0:09:59...\n",
       "1       . e4 {[%clk 0:09:57.7]} 1... e5 {[%clk 0:09:58...\n",
       "2       . e4 {[%clk 0:09:59]} 1... e5 {[%clk 0:09:56.7...\n",
       "3       . e4 {[%clk 0:09:54.4]} 1... e6 {[%clk 0:09:58...\n",
       "4       . d4 {[%clk 0:09:59.1]} 1... d5 {[%clk 0:09:56...\n",
       "                              ...                        \n",
       "2980    . e4 {[%clk 0:10:00]} 1... e5 {[%clk 0:09:59.1...\n",
       "2981    . e4 {[%clk 0:10:00]} 1... e5 {[%clk 0:09:54.7...\n",
       "2982    . e4 {[%clk 0:09:59.8]} 1... e5 {[%clk 0:09:58...\n",
       "2983    . e4 {[%clk 0:09:58.1]} 1... e5 {[%clk 0:09:58...\n",
       "2984    . e4 {[%clk 0:09:59.9]} 1... e5 {[%clk 0:09:58...\n",
       "Name: moves, Length: 2985, dtype: object"
      ]
     },
     "execution_count": 160,
     "metadata": {},
     "output_type": "execute_result"
    }
   ],
   "source": [
    "games['moves']"
   ]
  },
  {
   "cell_type": "code",
   "execution_count": null,
   "id": "4113c4f1-1a6c-4620-943e-fcd52b2d75d3",
   "metadata": {},
   "outputs": [],
   "source": []
  }
 ],
 "metadata": {
  "kernelspec": {
   "display_name": "Python 3 (ipykernel)",
   "language": "python",
   "name": "python3"
  },
  "language_info": {
   "codemirror_mode": {
    "name": "ipython",
    "version": 3
   },
   "file_extension": ".py",
   "mimetype": "text/x-python",
   "name": "python",
   "nbconvert_exporter": "python",
   "pygments_lexer": "ipython3",
   "version": "3.9.6"
  }
 },
 "nbformat": 4,
 "nbformat_minor": 5
}
